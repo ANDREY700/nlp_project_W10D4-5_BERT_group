{
 "cells": [
  {
   "cell_type": "markdown",
   "metadata": {},
   "source": [
    "#BERT"
   ]
  },
  {
   "cell_type": "code",
   "execution_count": null,
   "metadata": {},
   "outputs": [],
   "source": [
    "%load_ext autoreload\n",
    "%autoreload 2"
   ]
  },
  {
   "cell_type": "code",
   "execution_count": 1,
   "metadata": {},
   "outputs": [
    {
     "name": "stderr",
     "output_type": "stream",
     "text": [
      "/home/andrey/Documents/venv/.venv/lib/python3.12/site-packages/tqdm/auto.py:21: TqdmWarning: IProgress not found. Please update jupyter and ipywidgets. See https://ipywidgets.readthedocs.io/en/stable/user_install.html\n",
      "  from .autonotebook import tqdm as notebook_tqdm\n"
     ]
    }
   ],
   "source": [
    "import pandas as pd\n",
    "import numpy as np\n",
    "import pandas as pd\n",
    "from sklearn.linear_model import LogisticRegression\n",
    "from sklearn.model_selection import train_test_split\n",
    "from sklearn.model_selection import cross_val_score\n",
    "import torch\n",
    "from torch import nn\n",
    "import matplotlib.pyplot as plt\n",
    "\n",
    "# импортируем трансформеры\n",
    "import transformers\n",
    "from transformers import AdamW\n",
    "import warnings\n",
    "warnings.filterwarnings('ignore')\n",
    "from transformers import AutoTokenizer, AutoModel\n",
    "from sklearn.preprocessing import OneHotEncoder, LabelEncoder\n",
    "from sklearn.metrics import confusion_matrix\n",
    "import source.train_rnn_aa as train_rnn_aa\n",
    "\n",
    "from torch.utils.data import DataLoader, TensorDataset, DataLoader, RandomSampler\n",
    "from sklearn.utils.class_weight import compute_class_weight\n",
    "from torchmetrics.classification import BinaryAccuracy\n",
    "\n",
    "#some useful lybs\n",
    "import random as random\n",
    "\n",
    "# metrics\n",
    "from sklearn.metrics import accuracy_score, precision_score, recall_score, f1_score\n"
   ]
  },
  {
   "cell_type": "code",
   "execution_count": 2,
   "metadata": {},
   "outputs": [
    {
     "data": {
      "text/html": [
       "<div>\n",
       "<style scoped>\n",
       "    .dataframe tbody tr th:only-of-type {\n",
       "        vertical-align: middle;\n",
       "    }\n",
       "\n",
       "    .dataframe tbody tr th {\n",
       "        vertical-align: top;\n",
       "    }\n",
       "\n",
       "    .dataframe thead th {\n",
       "        text-align: right;\n",
       "    }\n",
       "</style>\n",
       "<table border=\"1\" class=\"dataframe\">\n",
       "  <thead>\n",
       "    <tr style=\"text-align: right;\">\n",
       "      <th></th>\n",
       "      <th>text</th>\n",
       "      <th>label</th>\n",
       "    </tr>\n",
       "  </thead>\n",
       "  <tbody>\n",
       "    <tr>\n",
       "      <th>0</th>\n",
       "      <td>Классный мастер. Огромное спасибо за чудесное ...</td>\n",
       "      <td>1</td>\n",
       "    </tr>\n",
       "    <tr>\n",
       "      <th>1</th>\n",
       "      <td>Замечательный врач. Хочу выразить особую благо...</td>\n",
       "      <td>1</td>\n",
       "    </tr>\n",
       "    <tr>\n",
       "      <th>2</th>\n",
       "      <td>Благодарность работникам рентгена. Добрый вече...</td>\n",
       "      <td>1</td>\n",
       "    </tr>\n",
       "    <tr>\n",
       "      <th>3</th>\n",
       "      <td>Доктор Рабинович. Женщины советского образца в...</td>\n",
       "      <td>0</td>\n",
       "    </tr>\n",
       "    <tr>\n",
       "      <th>4</th>\n",
       "      <td>Есть кому сказать спасибо. У меня с детства оч...</td>\n",
       "      <td>1</td>\n",
       "    </tr>\n",
       "  </tbody>\n",
       "</table>\n",
       "</div>"
      ],
      "text/plain": [
       "                                                text  label\n",
       "0  Классный мастер. Огромное спасибо за чудесное ...      1\n",
       "1  Замечательный врач. Хочу выразить особую благо...      1\n",
       "2  Благодарность работникам рентгена. Добрый вече...      1\n",
       "3  Доктор Рабинович. Женщины советского образца в...      0\n",
       "4  Есть кому сказать спасибо. У меня с детства оч...      1"
      ]
     },
     "execution_count": 2,
     "metadata": {},
     "output_type": "execute_result"
    }
   ],
   "source": [
    "# читаемм данные\n",
    "train_df = pd.read_csv('data/short_set.csv', index_col=0)\n",
    "train_df.head()"
   ]
  },
  {
   "cell_type": "code",
   "execution_count": 3,
   "metadata": {},
   "outputs": [
    {
     "data": {
      "text/html": [
       "<div>\n",
       "<style scoped>\n",
       "    .dataframe tbody tr th:only-of-type {\n",
       "        vertical-align: middle;\n",
       "    }\n",
       "\n",
       "    .dataframe tbody tr th {\n",
       "        vertical-align: top;\n",
       "    }\n",
       "\n",
       "    .dataframe thead th {\n",
       "        text-align: right;\n",
       "    }\n",
       "</style>\n",
       "<table border=\"1\" class=\"dataframe\">\n",
       "  <thead>\n",
       "    <tr style=\"text-align: right;\">\n",
       "      <th></th>\n",
       "      <th>text</th>\n",
       "      <th>label</th>\n",
       "    </tr>\n",
       "  </thead>\n",
       "  <tbody>\n",
       "    <tr>\n",
       "      <th>0</th>\n",
       "      <td>Классный мастер. Огромное спасибо за чудесное ...</td>\n",
       "      <td>1.0</td>\n",
       "    </tr>\n",
       "    <tr>\n",
       "      <th>1</th>\n",
       "      <td>Замечательный врач. Хочу выразить особую благо...</td>\n",
       "      <td>1.0</td>\n",
       "    </tr>\n",
       "    <tr>\n",
       "      <th>2</th>\n",
       "      <td>Благодарность работникам рентгена. Добрый вече...</td>\n",
       "      <td>1.0</td>\n",
       "    </tr>\n",
       "    <tr>\n",
       "      <th>3</th>\n",
       "      <td>Доктор Рабинович. Женщины советского образца в...</td>\n",
       "      <td>0.0</td>\n",
       "    </tr>\n",
       "    <tr>\n",
       "      <th>4</th>\n",
       "      <td>Есть кому сказать спасибо. У меня с детства оч...</td>\n",
       "      <td>1.0</td>\n",
       "    </tr>\n",
       "  </tbody>\n",
       "</table>\n",
       "</div>"
      ],
      "text/plain": [
       "                                                text  label\n",
       "0  Классный мастер. Огромное спасибо за чудесное ...    1.0\n",
       "1  Замечательный врач. Хочу выразить особую благо...    1.0\n",
       "2  Благодарность работникам рентгена. Добрый вече...    1.0\n",
       "3  Доктор Рабинович. Женщины советского образца в...    0.0\n",
       "4  Есть кому сказать спасибо. У меня с детства оч...    1.0"
      ]
     },
     "execution_count": 3,
     "metadata": {},
     "output_type": "execute_result"
    }
   ],
   "source": [
    "train_df['label'] = train_df['label'].astype(float)\n",
    "train_df.head()"
   ]
  },
  {
   "cell_type": "code",
   "execution_count": 4,
   "metadata": {},
   "outputs": [],
   "source": [
    "train_df = train_df.rename(columns={'text':'content', 'label':'class'})"
   ]
  },
  {
   "cell_type": "code",
   "execution_count": 5,
   "metadata": {},
   "outputs": [],
   "source": [
    "# ! comment it when ready !!!!\n",
    "\n",
    "# limit the set for models setup time\n",
    "#data_limit = 0.04 # to 4% of original length\n",
    "#data_len = len(train_df)-1\n",
    "#a_len = round(data_len * data_limit)\n",
    "#\n",
    "#a = [random.randint(0, data_len) for i in range(a_len)] \n",
    "#train_df = train_df.iloc[ a , : ].reset_index(drop=True)\n",
    "#len(train_df) # 7060 records -> 10%\n",
    "#4% -> "
   ]
  },
  {
   "cell_type": "code",
   "execution_count": 6,
   "metadata": {},
   "outputs": [
    {
     "data": {
      "text/html": [
       "<div>\n",
       "<style scoped>\n",
       "    .dataframe tbody tr th:only-of-type {\n",
       "        vertical-align: middle;\n",
       "    }\n",
       "\n",
       "    .dataframe tbody tr th {\n",
       "        vertical-align: top;\n",
       "    }\n",
       "\n",
       "    .dataframe thead th {\n",
       "        text-align: right;\n",
       "    }\n",
       "</style>\n",
       "<table border=\"1\" class=\"dataframe\">\n",
       "  <thead>\n",
       "    <tr style=\"text-align: right;\">\n",
       "      <th></th>\n",
       "      <th>content</th>\n",
       "      <th>class</th>\n",
       "    </tr>\n",
       "  </thead>\n",
       "  <tbody>\n",
       "    <tr>\n",
       "      <th>0</th>\n",
       "      <td>Классный мастер. Огромное спасибо за чудесное ...</td>\n",
       "      <td>1.0</td>\n",
       "    </tr>\n",
       "    <tr>\n",
       "      <th>1</th>\n",
       "      <td>Замечательный врач. Хочу выразить особую благо...</td>\n",
       "      <td>1.0</td>\n",
       "    </tr>\n",
       "    <tr>\n",
       "      <th>2</th>\n",
       "      <td>Благодарность работникам рентгена. Добрый вече...</td>\n",
       "      <td>1.0</td>\n",
       "    </tr>\n",
       "    <tr>\n",
       "      <th>3</th>\n",
       "      <td>Доктор Рабинович. Женщины советского образца в...</td>\n",
       "      <td>0.0</td>\n",
       "    </tr>\n",
       "    <tr>\n",
       "      <th>4</th>\n",
       "      <td>Есть кому сказать спасибо. У меня с детства оч...</td>\n",
       "      <td>1.0</td>\n",
       "    </tr>\n",
       "  </tbody>\n",
       "</table>\n",
       "</div>"
      ],
      "text/plain": [
       "                                             content  class\n",
       "0  Классный мастер. Огромное спасибо за чудесное ...    1.0\n",
       "1  Замечательный врач. Хочу выразить особую благо...    1.0\n",
       "2  Благодарность работникам рентгена. Добрый вече...    1.0\n",
       "3  Доктор Рабинович. Женщины советского образца в...    0.0\n",
       "4  Есть кому сказать спасибо. У меня с детства оч...    1.0"
      ]
     },
     "execution_count": 6,
     "metadata": {},
     "output_type": "execute_result"
    }
   ],
   "source": [
    "train_df.head()"
   ]
  },
  {
   "cell_type": "code",
   "execution_count": 7,
   "metadata": {},
   "outputs": [
    {
     "name": "stdout",
     "output_type": "stream",
     "text": [
      "cuda\n"
     ]
    }
   ],
   "source": [
    "#device = 'cuda' if torch.cuda.is_available() else 'cpu'\n",
    "CUDA_VISIBLE_DEVICES = 0,1\n",
    "device = torch.device('cuda' if torch.cuda.is_available() else 'cpu')\n",
    "print(device)"
   ]
  },
  {
   "cell_type": "code",
   "execution_count": 8,
   "metadata": {},
   "outputs": [],
   "source": [
    "# https://huggingface.co/google-bert/bert-base-uncased\n",
    "# подгружаем токенизатор и модель\n",
    "tokenizer = AutoTokenizer.from_pretrained(\"cointegrated/rubert-tiny2\")\n",
    "local_bert = AutoModel.from_pretrained(\"cointegrated/rubert-tiny2\")"
   ]
  },
  {
   "cell_type": "code",
   "execution_count": 9,
   "metadata": {},
   "outputs": [
    {
     "data": {
      "text/plain": [
       "(array([44934., 16994.,  4948.,  1871.,   835.,   413.,   221.,   147.,\n",
       "          144.,    90.]),\n",
       " array([  3. ,  89.8, 176.6, 263.4, 350.2, 437. , 523.8, 610.6, 697.4,\n",
       "        784.2, 871. ]),\n",
       " <BarContainer object of 10 artists>)"
      ]
     },
     "execution_count": 9,
     "metadata": {},
     "output_type": "execute_result"
    },
    {
     "data": {
      "image/png": "[encoded data removed]",
      "text/plain": [
       "<Figure size 640x480 with 1 Axes>"
      ]
     },
     "metadata": {},
     "output_type": "display_data"
    }
   ],
   "source": [
    "# words number in set\n",
    "train_lens = [len(i.split()) for i in train_df['content']]\n",
    "plt.hist(train_lens)"
   ]
  },
  {
   "cell_type": "code",
   "execution_count": 10,
   "metadata": {},
   "outputs": [],
   "source": [
    "SEQ_LEN = 550 #2048 max\n",
    "BATCH_SIZE = 256"
   ]
  },
  {
   "cell_type": "code",
   "execution_count": 11,
   "metadata": {},
   "outputs": [],
   "source": [
    "train_df, test_df, train_labels, test_labels = train_test_split(train_df['content'], train_df['class'], \n",
    "                                                                    random_state=99, \n",
    "                                                                    test_size=0.15)"
   ]
  },
  {
   "cell_type": "code",
   "execution_count": 12,
   "metadata": {},
   "outputs": [],
   "source": [
    "tokens_train_df = tokenizer.batch_encode_plus(train_df.tolist(), max_length = SEQ_LEN, pad_to_max_length=True, truncation=True)"
   ]
  },
  {
   "cell_type": "code",
   "execution_count": 13,
   "metadata": {},
   "outputs": [],
   "source": [
    "tokens_test_df = tokenizer.batch_encode_plus(test_df.tolist(), max_length = SEQ_LEN, pad_to_max_length=True, truncation=True)"
   ]
  },
  {
   "cell_type": "code",
   "execution_count": 14,
   "metadata": {},
   "outputs": [],
   "source": [
    "train_X_tenzor = torch.tensor(tokens_train_df['input_ids'])\n",
    "train_mask_tenzor = torch.tensor(tokens_train_df['attention_mask'])\n",
    "train_y_tenzor = torch.from_numpy(np.array(train_labels))\n",
    "\n",
    "test_X_tenzor = torch.tensor(tokens_test_df['input_ids'])\n",
    "test_mask_tenzor = torch.tensor(tokens_test_df['attention_mask'])\n",
    "test_y_tenzor = torch.from_numpy(np.array(test_labels))"
   ]
  },
  {
   "cell_type": "code",
   "execution_count": 15,
   "metadata": {},
   "outputs": [],
   "source": [
    "train_data = TensorDataset(train_X_tenzor, train_mask_tenzor, train_y_tenzor)\n",
    "train_dataloader = DataLoader(train_data, batch_size=BATCH_SIZE)"
   ]
  },
  {
   "cell_type": "code",
   "execution_count": 16,
   "metadata": {},
   "outputs": [],
   "source": [
    "test_data = TensorDataset(test_X_tenzor, test_mask_tenzor, test_y_tenzor)\n",
    "test_dataloader = DataLoader(test_data, batch_size=BATCH_SIZE)"
   ]
  },
  {
   "cell_type": "code",
   "execution_count": 17,
   "metadata": {},
   "outputs": [],
   "source": [
    "#freeze it\n",
    "for param in local_bert.parameters():\n",
    "    param.requires_grad = False"
   ]
  },
  {
   "cell_type": "code",
   "execution_count": 18,
   "metadata": {},
   "outputs": [],
   "source": [
    "class BERT_architecture(nn.Module):\n",
    "    def __init__(self, bert):     \n",
    "      super(BERT_architecture, self).__init__()\n",
    "      self.bert = bert \n",
    "      # dropout layer\n",
    "      self.dropout = nn.Dropout()      \n",
    "      self.tahn = nn.Tanh()\n",
    "      self.Sigmoid1 = nn.Sigmoid()\n",
    "      self.Sigmoid2 = nn.Sigmoid()\n",
    "      self.fc1 = nn.Linear(312,256)\n",
    "      self.fc2 = nn.Linear(256,100)\n",
    "      self.fc3 = nn.Linear(100,32)\n",
    "      self.fc4 = nn.Linear(32,1)\n",
    "      #self.fc3 = nn.Linear(64,5)\n",
    "\n",
    "      self.softmax = nn.LogSoftmax(dim=1)\n",
    "      \n",
    "    #define the forward pass\n",
    "    def forward(self, sent_id, mask):\n",
    "      #pass the inputs to the model  \n",
    "      _, cls_hs = self.bert(sent_id, attention_mask=mask, return_dict=False) \n",
    "      cls_hs = nn.functional.normalize(cls_hs)\n",
    "      #print(f'cls : {cls_hs.shape}')  #cls : torch.Size([64, 312])\n",
    "      x = self.fc1(cls_hs)\n",
    "      x = self.Sigmoid1(x)\n",
    "      x = self.dropout(x)\n",
    "\n",
    "      x = self.fc2(x)\n",
    "      x = self.Sigmoid2(x)\n",
    "\n",
    "      x = self.fc3(x)\n",
    "      x = self.Sigmoid2(x)\n",
    "      x = self.fc4(x)\n",
    "      x = self.Sigmoid2(x)\n",
    "      return x\n",
    "\n",
    "#Epoch 1, time spent: 5.22\n",
    "#train_loss : 0.1578 val_loss : 0.1602\n",
    "#train_accuracy : 0.94 val_accuracy : 0.94"
   ]
  },
  {
   "cell_type": "code",
   "execution_count": 19,
   "metadata": {},
   "outputs": [
    {
     "data": {
      "text/plain": [
       "DataParallel(\n",
       "  (module): BERT_architecture(\n",
       "    (bert): BertModel(\n",
       "      (embeddings): BertEmbeddings(\n",
       "        (word_embeddings): Embedding(83828, 312, padding_idx=0)\n",
       "        (position_embeddings): Embedding(2048, 312)\n",
       "        (token_type_embeddings): Embedding(2, 312)\n",
       "        (LayerNorm): LayerNorm((312,), eps=1e-12, elementwise_affine=True)\n",
       "        (dropout): Dropout(p=0.1, inplace=False)\n",
       "      )\n",
       "      (encoder): BertEncoder(\n",
       "        (layer): ModuleList(\n",
       "          (0-2): 3 x BertLayer(\n",
       "            (attention): BertAttention(\n",
       "              (self): BertSdpaSelfAttention(\n",
       "                (query): Linear(in_features=312, out_features=312, bias=True)\n",
       "                (key): Linear(in_features=312, out_features=312, bias=True)\n",
       "                (value): Linear(in_features=312, out_features=312, bias=True)\n",
       "                (dropout): Dropout(p=0.1, inplace=False)\n",
       "              )\n",
       "              (output): BertSelfOutput(\n",
       "                (dense): Linear(in_features=312, out_features=312, bias=True)\n",
       "                (LayerNorm): LayerNorm((312,), eps=1e-12, elementwise_affine=True)\n",
       "                (dropout): Dropout(p=0.1, inplace=False)\n",
       "              )\n",
       "            )\n",
       "            (intermediate): BertIntermediate(\n",
       "              (dense): Linear(in_features=312, out_features=600, bias=True)\n",
       "              (intermediate_act_fn): GELUActivation()\n",
       "            )\n",
       "            (output): BertOutput(\n",
       "              (dense): Linear(in_features=600, out_features=312, bias=True)\n",
       "              (LayerNorm): LayerNorm((312,), eps=1e-12, elementwise_affine=True)\n",
       "              (dropout): Dropout(p=0.1, inplace=False)\n",
       "            )\n",
       "          )\n",
       "        )\n",
       "      )\n",
       "      (pooler): BertPooler(\n",
       "        (dense): Linear(in_features=312, out_features=312, bias=True)\n",
       "        (activation): Tanh()\n",
       "      )\n",
       "    )\n",
       "    (dropout): Dropout(p=0.5, inplace=False)\n",
       "    (tahn): Tanh()\n",
       "    (Sigmoid1): Sigmoid()\n",
       "    (Sigmoid2): Sigmoid()\n",
       "    (fc1): Linear(in_features=312, out_features=256, bias=True)\n",
       "    (fc2): Linear(in_features=256, out_features=100, bias=True)\n",
       "    (fc3): Linear(in_features=100, out_features=32, bias=True)\n",
       "    (fc4): Linear(in_features=32, out_features=1, bias=True)\n",
       "    (softmax): LogSoftmax(dim=1)\n",
       "  )\n",
       ")"
      ]
     },
     "execution_count": 19,
     "metadata": {},
     "output_type": "execute_result"
    }
   ],
   "source": [
    "model = BERT_architecture(local_bert)\n",
    "model = nn.DataParallel(model)\n",
    "model.to(device)"
   ]
  },
  {
   "cell_type": "code",
   "execution_count": 20,
   "metadata": {},
   "outputs": [],
   "source": [
    "#optimizer = AdamW(model.parameters(),lr = 0.01)  # learning rate\n",
    "optimizer = torch.optim.RMSprop(model.parameters(), lr = 0.01)  # learning rate"
   ]
  },
  {
   "cell_type": "code",
   "execution_count": 21,
   "metadata": {},
   "outputs": [
    {
     "name": "stdout",
     "output_type": "stream",
     "text": [
      "class weights are [1.21614446 0.84909158] for [0. 1.]\n"
     ]
    }
   ],
   "source": [
    "#compute the class weights\n",
    "class_weights = compute_class_weight(class_weight = \"balanced\",\n",
    "                                        classes = np.unique(train_labels),\n",
    "                                        y = train_labels \n",
    "                                     )\n",
    "print(\"class weights are {} for {}\".format(class_weights,np.unique(train_labels)))"
   ]
  },
  {
   "cell_type": "code",
   "execution_count": 22,
   "metadata": {},
   "outputs": [],
   "source": [
    "weights= torch.tensor(class_weights, dtype=torch.float)\n",
    "weights = weights.to(device)\n",
    "\n",
    "#criterion  = nn.CrossEntropyLoss(weight=weights) \n",
    "#criterion  = nn.CrossEntropyLoss() \n",
    "#criterion  = nn.BCELoss(weight=weights) \n",
    "#criterion  = nn.BCELoss() \n",
    "criterion  = nn.BCEWithLogitsLoss() \n",
    "\n",
    "metric = BinaryAccuracy()"
   ]
  },
  {
   "cell_type": "code",
   "execution_count": 23,
   "metadata": {},
   "outputs": [],
   "source": [
    "#train_rnn_aa\n",
    "epoch_train_losses = [] \n",
    "epoch_valid_losses = [] \n",
    "epoch_train_metric = [] \n",
    "epoch_valid_metric = [] \n",
    "time_spent = [] "
   ]
  },
  {
   "cell_type": "code",
   "execution_count": 24,
   "metadata": {},
   "outputs": [
    {
     "ename": "NameError",
     "evalue": "name 'privet' is not defined",
     "output_type": "error",
     "traceback": [
      "\u001b[0;31m---------------------------------------------------------------------------\u001b[0m",
      "\u001b[0;31mNameError\u001b[0m                                 Traceback (most recent call last)",
      "Cell \u001b[0;32mIn[24], line 1\u001b[0m\n\u001b[0;32m----> 1\u001b[0m \u001b[43mprivet\u001b[49m()\n",
      "\u001b[0;31mNameError\u001b[0m: name 'privet' is not defined"
     ]
    }
   ],
   "source": [
    "privet()"
   ]
  },
  {
   "cell_type": "code",
   "execution_count": 27,
   "metadata": {},
   "outputs": [
    {
     "name": "stdout",
     "output_type": "stream",
     "text": [
      "Epoch 1, time spent: 130.21\n",
      "train_loss : 0.5025 val_loss : 0.5039\n",
      "train_accuracy : 0.93 val_accuracy : 0.93\n",
      "==================================================\n",
      "Epoch 2, time spent: 129.81\n",
      "train_loss : 0.5029 val_loss : 0.5053\n",
      "train_accuracy : 0.92 val_accuracy : 0.93\n",
      "==================================================\n",
      "Epoch 3, time spent: 130.27\n",
      "train_loss : 0.5029 val_loss : 0.5049\n",
      "train_accuracy : 0.93 val_accuracy : 0.94\n",
      "==================================================\n",
      "Epoch 4, time spent: 130.39\n",
      "train_loss : 0.5025 val_loss : 0.5042\n",
      "train_accuracy : 0.93 val_accuracy : 0.94\n",
      "==================================================\n",
      "Epoch 5, time spent: 130.37\n",
      "train_loss : 0.5023 val_loss : 0.5049\n",
      "train_accuracy : 0.92 val_accuracy : 0.94\n",
      "==================================================\n",
      "Epoch 6, time spent: 130.55\n",
      "train_loss : 0.5024 val_loss : 0.5064\n",
      "train_accuracy : 0.93 val_accuracy : 0.92\n",
      "==================================================\n",
      "Epoch 7, time spent: 132.17\n",
      "train_loss : 0.5020 val_loss : 0.5043\n",
      "train_accuracy : 0.93 val_accuracy : 0.94\n",
      "==================================================\n",
      "Epoch 8, time spent: 130.52\n",
      "train_loss : 0.5018 val_loss : 0.5037\n",
      "train_accuracy : 0.93 val_accuracy : 0.94\n",
      "==================================================\n",
      "Epoch 9, time spent: 130.50\n",
      "train_loss : 0.5017 val_loss : 0.5038\n",
      "train_accuracy : 0.93 val_accuracy : 0.93\n",
      "==================================================\n",
      "Epoch 10, time spent: 130.34\n",
      "train_loss : 0.5024 val_loss : 0.5040\n",
      "train_accuracy : 0.93 val_accuracy : 0.94\n",
      "==================================================\n",
      "Epoch 11, time spent: 130.30\n",
      "train_loss : 0.5019 val_loss : 0.5038\n",
      "train_accuracy : 0.93 val_accuracy : 0.94\n",
      "==================================================\n",
      "Epoch 12, time spent: 130.41\n",
      "train_loss : 0.5021 val_loss : 0.5046\n",
      "train_accuracy : 0.93 val_accuracy : 0.94\n",
      "==================================================\n",
      "Epoch 13, time spent: 131.50\n",
      "train_loss : 0.5025 val_loss : 0.5046\n",
      "train_accuracy : 0.93 val_accuracy : 0.94\n",
      "==================================================\n",
      "Epoch 14, time spent: 130.35\n",
      "train_loss : 0.5023 val_loss : 0.5044\n",
      "train_accuracy : 0.93 val_accuracy : 0.93\n",
      "==================================================\n",
      "Epoch 15, time spent: 130.51\n",
      "train_loss : 0.5023 val_loss : 0.5042\n",
      "train_accuracy : 0.93 val_accuracy : 0.93\n",
      "==================================================\n",
      "Epoch 16, time spent: 130.61\n",
      "train_loss : 0.5017 val_loss : 0.5038\n",
      "train_accuracy : 0.93 val_accuracy : 0.93\n",
      "==================================================\n",
      "Epoch 17, time spent: 130.53\n",
      "train_loss : 0.5019 val_loss : 0.5033\n",
      "train_accuracy : 0.93 val_accuracy : 0.93\n",
      "==================================================\n",
      "Epoch 18, time spent: 130.56\n",
      "train_loss : 0.5019 val_loss : 0.5043\n",
      "train_accuracy : 0.93 val_accuracy : 0.94\n",
      "==================================================\n",
      "Epoch 19, time spent: 130.39\n",
      "train_loss : 0.5015 val_loss : 0.5036\n",
      "train_accuracy : 0.93 val_accuracy : 0.94\n",
      "==================================================\n",
      "Epoch 20, time spent: 131.65\n",
      "train_loss : 0.5015 val_loss : 0.5037\n",
      "train_accuracy : 0.93 val_accuracy : 0.94\n",
      "==================================================\n",
      "Epoch 21, time spent: 130.30\n",
      "train_loss : 0.5009 val_loss : 0.5038\n",
      "train_accuracy : 0.93 val_accuracy : 0.93\n",
      "==================================================\n",
      "Epoch 22, time spent: 130.40\n",
      "train_loss : 0.5014 val_loss : 0.5043\n",
      "train_accuracy : 0.93 val_accuracy : 0.93\n",
      "==================================================\n",
      "Epoch 23, time spent: 130.33\n",
      "train_loss : 0.5011 val_loss : 0.5040\n",
      "train_accuracy : 0.93 val_accuracy : 0.94\n",
      "==================================================\n",
      "Epoch 24, time spent: 130.34\n",
      "train_loss : 0.5018 val_loss : 0.5049\n",
      "train_accuracy : 0.93 val_accuracy : 0.93\n",
      "==================================================\n",
      "Epoch 25, time spent: 131.70\n",
      "train_loss : 0.5017 val_loss : 0.5041\n",
      "train_accuracy : 0.93 val_accuracy : 0.93\n",
      "==================================================\n"
     ]
    }
   ],
   "source": [
    "model, epoch_train_losses, epoch_valid_losses, epoch_train_metric, epoch_valid_metric, time_spent = train_rnn_aa.train_BERT(25, model, \n",
    "        train_dataloader,\n",
    "        test_dataloader, \n",
    "        optimizer, \n",
    "        criterion,   \n",
    "        metric,              \n",
    "        epoch_train_losses,\n",
    "        epoch_valid_losses,\n",
    "        epoch_train_metric,\n",
    "        epoch_valid_metric,\n",
    "        time_spent, device)"
   ]
  },
  {
   "cell_type": "code",
   "execution_count": 28,
   "metadata": {},
   "outputs": [],
   "source": [
    "torch.save(model, 'models/model_bert.mod')"
   ]
  },
  {
   "cell_type": "code",
   "execution_count": 29,
   "metadata": {},
   "outputs": [],
   "source": [
    "res = pd.DataFrame.from_dict({'epoch_train_losses':epoch_train_losses, \n",
    "                              'epoch_valid_losses': epoch_valid_losses, \n",
    "                              'epoch_train_metric': epoch_train_metric, \n",
    "                              'epoch_valid_metric': epoch_valid_metric, \n",
    "                               'time_spent': time_spent })"
   ]
  },
  {
   "cell_type": "code",
   "execution_count": 30,
   "metadata": {},
   "outputs": [
    {
     "data": {
      "text/html": [
       "<div>\n",
       "<style scoped>\n",
       "    .dataframe tbody tr th:only-of-type {\n",
       "        vertical-align: middle;\n",
       "    }\n",
       "\n",
       "    .dataframe tbody tr th {\n",
       "        vertical-align: top;\n",
       "    }\n",
       "\n",
       "    .dataframe thead th {\n",
       "        text-align: right;\n",
       "    }\n",
       "</style>\n",
       "<table border=\"1\" class=\"dataframe\">\n",
       "  <thead>\n",
       "    <tr style=\"text-align: right;\">\n",
       "      <th></th>\n",
       "      <th>epoch_train_losses</th>\n",
       "      <th>epoch_valid_losses</th>\n",
       "      <th>epoch_train_metric</th>\n",
       "      <th>epoch_valid_metric</th>\n",
       "      <th>time_spent</th>\n",
       "    </tr>\n",
       "  </thead>\n",
       "  <tbody>\n",
       "    <tr>\n",
       "      <th>0</th>\n",
       "      <td>0.525405</td>\n",
       "      <td>0.508971</td>\n",
       "      <td>0.871188</td>\n",
       "      <td>0.922510</td>\n",
       "      <td>134.272626</td>\n",
       "    </tr>\n",
       "    <tr>\n",
       "      <th>1</th>\n",
       "      <td>0.511260</td>\n",
       "      <td>0.509225</td>\n",
       "      <td>0.905787</td>\n",
       "      <td>0.927812</td>\n",
       "      <td>129.507887</td>\n",
       "    </tr>\n",
       "    <tr>\n",
       "      <th>2</th>\n",
       "      <td>0.508636</td>\n",
       "      <td>0.509464</td>\n",
       "      <td>0.912229</td>\n",
       "      <td>0.929393</td>\n",
       "      <td>129.753993</td>\n",
       "    </tr>\n",
       "    <tr>\n",
       "      <th>3</th>\n",
       "      <td>0.508153</td>\n",
       "      <td>0.511557</td>\n",
       "      <td>0.913599</td>\n",
       "      <td>0.926933</td>\n",
       "      <td>130.030416</td>\n",
       "    </tr>\n",
       "    <tr>\n",
       "      <th>4</th>\n",
       "      <td>0.507701</td>\n",
       "      <td>0.506522</td>\n",
       "      <td>0.914089</td>\n",
       "      <td>0.930323</td>\n",
       "      <td>130.200960</td>\n",
       "    </tr>\n",
       "  </tbody>\n",
       "</table>\n",
       "</div>"
      ],
      "text/plain": [
       "   epoch_train_losses  epoch_valid_losses  epoch_train_metric  \\\n",
       "0            0.525405            0.508971            0.871188   \n",
       "1            0.511260            0.509225            0.905787   \n",
       "2            0.508636            0.509464            0.912229   \n",
       "3            0.508153            0.511557            0.913599   \n",
       "4            0.507701            0.506522            0.914089   \n",
       "\n",
       "   epoch_valid_metric  time_spent  \n",
       "0            0.922510  134.272626  \n",
       "1            0.927812  129.507887  \n",
       "2            0.929393  129.753993  \n",
       "3            0.926933  130.030416  \n",
       "4            0.930323  130.200960  "
      ]
     },
     "execution_count": 30,
     "metadata": {},
     "output_type": "execute_result"
    }
   ],
   "source": [
    "res.head()"
   ]
  },
  {
   "cell_type": "code",
   "execution_count": 31,
   "metadata": {},
   "outputs": [],
   "source": [
    "res.to_csv('data/result_bert.csv')"
   ]
  },
  {
   "cell_type": "code",
   "execution_count": null,
   "metadata": {},
   "outputs": [],
   "source": [
    "#tokens_test_df['input_ids']\n",
    "#test_mask_tenzor = torch.tensor(tokens_test_df['attention_mask'])"
   ]
  },
  {
   "cell_type": "code",
   "execution_count": 35,
   "metadata": {},
   "outputs": [],
   "source": [
    "answer = []\n",
    "for batch_valid in test_dataloader:\n",
    "            batch_valid = [r.to(device) for r in batch_valid]            \n",
    "            inputs, mask, labels = batch_valid            \n",
    "            \n",
    "            with torch.no_grad():\n",
    "                output = model(inputs, mask).squeeze()\n",
    "            answer.append(output.to('cpu').squeeze())\n",
    "            #answer.append(output.to('cpu').squeeze().argmax(axis=1))"
   ]
  },
  {
   "cell_type": "code",
   "execution_count": 36,
   "metadata": {},
   "outputs": [],
   "source": [
    "answer_list = []\n",
    "for i in range(0, len(answer)):\n",
    "    answer_list.append(answer[i].tolist())"
   ]
  },
  {
   "cell_type": "code",
   "execution_count": 38,
   "metadata": {},
   "outputs": [
    {
     "data": {
      "text/plain": [
       "10590"
      ]
     },
     "execution_count": 38,
     "metadata": {},
     "output_type": "execute_result"
    }
   ],
   "source": [
    "flat_answer_list = []\n",
    "for i in answer_list:\n",
    "    for j in range(0, len(i)):\n",
    "        flat_answer_list.append(i[j])\n",
    "len(flat_answer_list)"
   ]
  },
  {
   "cell_type": "code",
   "execution_count": 39,
   "metadata": {},
   "outputs": [
    {
     "data": {
      "text/html": [
       "<div>\n",
       "<style scoped>\n",
       "    .dataframe tbody tr th:only-of-type {\n",
       "        vertical-align: middle;\n",
       "    }\n",
       "\n",
       "    .dataframe tbody tr th {\n",
       "        vertical-align: top;\n",
       "    }\n",
       "\n",
       "    .dataframe thead th {\n",
       "        text-align: right;\n",
       "    }\n",
       "</style>\n",
       "<table border=\"1\" class=\"dataframe\">\n",
       "  <thead>\n",
       "    <tr style=\"text-align: right;\">\n",
       "      <th></th>\n",
       "      <th>answer</th>\n",
       "    </tr>\n",
       "  </thead>\n",
       "  <tbody>\n",
       "    <tr>\n",
       "      <th>0</th>\n",
       "      <td>0</td>\n",
       "    </tr>\n",
       "    <tr>\n",
       "      <th>1</th>\n",
       "      <td>0</td>\n",
       "    </tr>\n",
       "    <tr>\n",
       "      <th>2</th>\n",
       "      <td>0</td>\n",
       "    </tr>\n",
       "    <tr>\n",
       "      <th>3</th>\n",
       "      <td>0</td>\n",
       "    </tr>\n",
       "    <tr>\n",
       "      <th>4</th>\n",
       "      <td>0</td>\n",
       "    </tr>\n",
       "  </tbody>\n",
       "</table>\n",
       "</div>"
      ],
      "text/plain": [
       "   answer\n",
       "0       0\n",
       "1       0\n",
       "2       0\n",
       "3       0\n",
       "4       0"
      ]
     },
     "execution_count": 39,
     "metadata": {},
     "output_type": "execute_result"
    }
   ],
   "source": [
    "answer_df = pd.DataFrame.from_dict({'answer':flat_answer_list})\n",
    "answer_df['answer'] = answer_df['answer'].astype(int)\n",
    "answer_df.head()"
   ]
  },
  {
   "cell_type": "code",
   "execution_count": 40,
   "metadata": {},
   "outputs": [
    {
     "data": {
      "text/plain": [
       "2929     0\n",
       "41238    1\n",
       "29580    0\n",
       "1844     1\n",
       "26928    1\n",
       "        ..\n",
       "32580    1\n",
       "48676    1\n",
       "53790    1\n",
       "49096    0\n",
       "26574    1\n",
       "Name: class, Length: 10590, dtype: int64"
      ]
     },
     "execution_count": 40,
     "metadata": {},
     "output_type": "execute_result"
    }
   ],
   "source": [
    "test_labels = test_labels.astype(int)\n",
    "test_labels"
   ]
  },
  {
   "cell_type": "code",
   "execution_count": 41,
   "metadata": {},
   "outputs": [],
   "source": [
    "result = pd.DataFrame([], columns = ['Model', 'time_sec', 'Accuracy', 'Precision', 'Recall', 'F1'])"
   ]
  },
  {
   "cell_type": "code",
   "execution_count": 42,
   "metadata": {},
   "outputs": [],
   "source": [
    "accuracy = accuracy_score(test_labels, answer_df['answer'])\n",
    "precision = precision_score(test_labels, answer_df['answer'], average='macro')\n",
    "recall = recall_score(test_labels, answer_df['answer'], average='macro')\n",
    "f1 = f1_score(test_labels, answer_df['answer'], average='macro')"
   ]
  },
  {
   "cell_type": "code",
   "execution_count": 43,
   "metadata": {},
   "outputs": [],
   "source": [
    "result = pd.concat([pd.DataFrame([{'Model':'12A: BERT', \n",
    "                                   'time_sec' : f'{sum(time_spent):.1f}', \n",
    "                                   'Accuracy' : f'{accuracy:.4f}', \n",
    "                                   'Precision' : f'{precision:.4f}', \n",
    "                                   'Recall' : f'{recall:.4f}', \n",
    "                                   'F1' : f'{f1:.4f}'\n",
    "                                   }],\n",
    "                                   columns=result.columns), result], axis=0, ignore_index=True)"
   ]
  },
  {
   "cell_type": "code",
   "execution_count": 44,
   "metadata": {},
   "outputs": [
    {
     "data": {
      "text/html": [
       "<div>\n",
       "<style scoped>\n",
       "    .dataframe tbody tr th:only-of-type {\n",
       "        vertical-align: middle;\n",
       "    }\n",
       "\n",
       "    .dataframe tbody tr th {\n",
       "        vertical-align: top;\n",
       "    }\n",
       "\n",
       "    .dataframe thead th {\n",
       "        text-align: right;\n",
       "    }\n",
       "</style>\n",
       "<table border=\"1\" class=\"dataframe\">\n",
       "  <thead>\n",
       "    <tr style=\"text-align: right;\">\n",
       "      <th></th>\n",
       "      <th>Model</th>\n",
       "      <th>time_sec</th>\n",
       "      <th>Accuracy</th>\n",
       "      <th>Precision</th>\n",
       "      <th>Recall</th>\n",
       "      <th>F1</th>\n",
       "    </tr>\n",
       "  </thead>\n",
       "  <tbody>\n",
       "    <tr>\n",
       "      <th>0</th>\n",
       "      <td>12A: BERT</td>\n",
       "      <td>7185.4</td>\n",
       "      <td>0.4256</td>\n",
       "      <td>0.2128</td>\n",
       "      <td>0.5000</td>\n",
       "      <td>0.2985</td>\n",
       "    </tr>\n",
       "  </tbody>\n",
       "</table>\n",
       "</div>"
      ],
      "text/plain": [
       "       Model time_sec Accuracy Precision  Recall      F1\n",
       "0  12A: BERT   7185.4   0.4256    0.2128  0.5000  0.2985"
      ]
     },
     "execution_count": 44,
     "metadata": {},
     "output_type": "execute_result"
    }
   ],
   "source": [
    "result.head()"
   ]
  },
  {
   "cell_type": "code",
   "execution_count": 45,
   "metadata": {},
   "outputs": [],
   "source": [
    "# save results to file\n",
    "result.to_csv('data/bert_model_results.csv')"
   ]
  }
 ],
 "metadata": {
  "kernelspec": {
   "display_name": ".venv",
   "language": "python",
   "name": "python3"
  },
  "language_info": {
   "codemirror_mode": {
    "name": "ipython",
    "version": 3
   },
   "file_extension": ".py",
   "mimetype": "text/x-python",
   "name": "python",
   "nbconvert_exporter": "python",
   "pygments_lexer": "ipython3",
   "version": "3.12.3"
  }
 },
 "nbformat": 4,
 "nbformat_minor": 2
}
