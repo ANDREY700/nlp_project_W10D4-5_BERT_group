{
 "cells": [
  {
   "cell_type": "code",
   "execution_count": 27,
   "metadata": {},
   "outputs": [
    {
     "name": "stdout",
     "output_type": "stream",
     "text": [
      "The autoreload extension is already loaded. To reload it, use:\n",
      "  %reload_ext autoreload\n"
     ]
    }
   ],
   "source": [
    "# auto update\n",
    "%load_ext autoreload\n",
    "%autoreload 2"
   ]
  },
  {
   "cell_type": "code",
   "execution_count": 28,
   "metadata": {},
   "outputs": [
    {
     "name": "stderr",
     "output_type": "stream",
     "text": [
      "[nltk_data] Downloading package punkt_tab to /home/andrey/nltk_data...\n",
      "[nltk_data]   Package punkt_tab is already up-to-date!\n"
     ]
    }
   ],
   "source": [
    "#libs\n",
    "\n",
    "# common\n",
    "import pandas as pd\n",
    "import numpy as np\n",
    "import random as random\n",
    "\n",
    "# language processing\n",
    "import nltk\n",
    "from nltk.stem.snowball import SnowballStemmer # lemmatization\n",
    "import re\n",
    "from sklearn.feature_extraction.text import CountVectorizer, TfidfVectorizer # vectorization\n",
    "from nltk.corpus import stopwords\n",
    "nltk.download('punkt_tab')\n",
    "\n",
    "# mdata preparation\n",
    "from sklearn.model_selection import train_test_split\n",
    "\n",
    "# ML models\n",
    "from sklearn.naive_bayes import GaussianNB\n",
    "from sklearn.linear_model import LogisticRegression\n",
    "from sklearn import svm\n",
    "from sklearn.tree import DecisionTreeClassifier\n",
    "from sklearn.ensemble import AdaBoostClassifier\n",
    "from sklearn.ensemble import GradientBoostingClassifier\n",
    "from sklearn.linear_model import LinearRegression\n",
    "\n",
    "# timer\n",
    "import datetime\n",
    "\n",
    "# metrics\n",
    "from sklearn.metrics import accuracy_score, precision_score, recall_score, f1_score\n",
    "\n",
    "# saving models\n",
    "import pickle\n"
   ]
  },
  {
   "cell_type": "code",
   "execution_count": 29,
   "metadata": {},
   "outputs": [
    {
     "name": "stderr",
     "output_type": "stream",
     "text": [
      "[nltk_data] Downloading package stopwords to /home/andrey/nltk_data...\n",
      "[nltk_data]   Package stopwords is already up-to-date!\n",
      "[nltk_data] Downloading package punkt to /home/andrey/nltk_data...\n",
      "[nltk_data]   Package punkt is already up-to-date!\n",
      "[nltk_data] Downloading package wordnet to /home/andrey/nltk_data...\n",
      "[nltk_data]   Package wordnet is already up-to-date!\n"
     ]
    },
    {
     "data": {
      "text/plain": [
       "True"
      ]
     },
     "execution_count": 29,
     "metadata": {},
     "output_type": "execute_result"
    }
   ],
   "source": [
    "# language processing preparing\n",
    "nltk.download(\"stopwords\") # stop words removing\n",
    "nltk.download('punkt') # split the text\n",
    "nltk.download('wordnet') # lemmatization"
   ]
  },
  {
   "cell_type": "code",
   "execution_count": 30,
   "metadata": {},
   "outputs": [],
   "source": [
    "# load prepared models\n",
    "model01 = pickle.load(open('models/model_01.mod', 'rb'))"
   ]
  },
  {
   "cell_type": "code",
   "execution_count": 31,
   "metadata": {},
   "outputs": [
    {
     "data": {
      "text/html": [
       "<div>\n",
       "<style scoped>\n",
       "    .dataframe tbody tr th:only-of-type {\n",
       "        vertical-align: middle;\n",
       "    }\n",
       "\n",
       "    .dataframe tbody tr th {\n",
       "        vertical-align: top;\n",
       "    }\n",
       "\n",
       "    .dataframe thead th {\n",
       "        text-align: right;\n",
       "    }\n",
       "</style>\n",
       "<table border=\"1\" class=\"dataframe\">\n",
       "  <thead>\n",
       "    <tr style=\"text-align: right;\">\n",
       "      <th>names</th>\n",
       "      <th>аа</th>\n",
       "      <th>ааа</th>\n",
       "      <th>аааа</th>\n",
       "      <th>ааааа</th>\n",
       "      <th>аааааааааааааааааааааааааааа</th>\n",
       "      <th>аалександр</th>\n",
       "      <th>аанасьев</th>\n",
       "      <th>аб</th>\n",
       "      <th>аба</th>\n",
       "      <th>абаев</th>\n",
       "      <th>...</th>\n",
       "      <th>ящериц</th>\n",
       "      <th>ящик</th>\n",
       "      <th>ящикдал</th>\n",
       "      <th>ящикещ</th>\n",
       "      <th>ящикздоров</th>\n",
       "      <th>ящичек</th>\n",
       "      <th>ящичк</th>\n",
       "      <th>ящук</th>\n",
       "      <th>ящуржинск</th>\n",
       "      <th>яявлен</th>\n",
       "    </tr>\n",
       "  </thead>\n",
       "  <tbody>\n",
       "    <tr>\n",
       "      <th>0</th>\n",
       "      <td>0</td>\n",
       "      <td>0</td>\n",
       "      <td>0</td>\n",
       "      <td>0</td>\n",
       "      <td>0</td>\n",
       "      <td>0</td>\n",
       "      <td>0</td>\n",
       "      <td>0</td>\n",
       "      <td>0</td>\n",
       "      <td>0</td>\n",
       "      <td>...</td>\n",
       "      <td>0</td>\n",
       "      <td>0</td>\n",
       "      <td>0</td>\n",
       "      <td>0</td>\n",
       "      <td>0</td>\n",
       "      <td>0</td>\n",
       "      <td>0</td>\n",
       "      <td>0</td>\n",
       "      <td>0</td>\n",
       "      <td>0</td>\n",
       "    </tr>\n",
       "  </tbody>\n",
       "</table>\n",
       "<p>1 rows × 108644 columns</p>\n",
       "</div>"
      ],
      "text/plain": [
       "names  аа  ааа  аааа  ааааа  аааааааааааааааааааааааааааа  аалександр  \\\n",
       "0       0    0     0      0                             0           0   \n",
       "\n",
       "names  аанасьев  аб  аба  абаев  ...  ящериц  ящик  ящикдал  ящикещ  \\\n",
       "0             0   0    0      0  ...       0     0        0       0   \n",
       "\n",
       "names  ящикздоров  ящичек  ящичк  ящук  ящуржинск  яявлен  \n",
       "0               0       0      0     0          0       0  \n",
       "\n",
       "[1 rows x 108644 columns]"
      ]
     },
     "execution_count": 31,
     "metadata": {},
     "output_type": "execute_result"
    }
   ],
   "source": [
    "# load special tables\n",
    "x_BOW_table = pd.read_csv('data/x_BOW_names.csv', index_col=0, delimiter=',')\n",
    "x_len = len(x_BOW_table)\n",
    "x_line = [0] * x_len\n",
    "x_line = pd.DataFrame(x_line).T\n",
    "x_line.columns = x_BOW_table['names']\n",
    "x_BOW_table = x_line\n",
    "x_BOW_table.head() # do not like!"
   ]
  },
  {
   "cell_type": "code",
   "execution_count": 32,
   "metadata": {},
   "outputs": [
    {
     "data": {
      "text/html": [
       "<div>\n",
       "<style scoped>\n",
       "    .dataframe tbody tr th:only-of-type {\n",
       "        vertical-align: middle;\n",
       "    }\n",
       "\n",
       "    .dataframe tbody tr th {\n",
       "        vertical-align: top;\n",
       "    }\n",
       "\n",
       "    .dataframe thead th {\n",
       "        text-align: right;\n",
       "    }\n",
       "</style>\n",
       "<table border=\"1\" class=\"dataframe\">\n",
       "  <thead>\n",
       "    <tr style=\"text-align: right;\">\n",
       "      <th></th>\n",
       "      <th>text</th>\n",
       "    </tr>\n",
       "  </thead>\n",
       "  <tbody>\n",
       "    <tr>\n",
       "      <th>0</th>\n",
       "      <td>Замечательный врач. Хочу выразить особую благо...</td>\n",
       "    </tr>\n",
       "  </tbody>\n",
       "</table>\n",
       "</div>"
      ],
      "text/plain": [
       "                                                text\n",
       "0  Замечательный врач. Хочу выразить особую благо..."
      ]
     },
     "execution_count": 32,
     "metadata": {},
     "output_type": "execute_result"
    }
   ],
   "source": [
    "data = 'Замечательный врач. Хочу выразить особую благодарность замечательному доктору - Замареновой Антонине Васильевне. Был сложный случай, сделала все отлично! И отдельная благодарность ее медсестре Оле, очень внимательная и вежливая девушка!'\n",
    "data = pd.DataFrame([data], columns = ['text'])\n",
    "data.head()"
   ]
  },
  {
   "cell_type": "code",
   "execution_count": 33,
   "metadata": {},
   "outputs": [
    {
     "data": {
      "text/html": [
       "<div>\n",
       "<style scoped>\n",
       "    .dataframe tbody tr th:only-of-type {\n",
       "        vertical-align: middle;\n",
       "    }\n",
       "\n",
       "    .dataframe tbody tr th {\n",
       "        vertical-align: top;\n",
       "    }\n",
       "\n",
       "    .dataframe thead th {\n",
       "        text-align: right;\n",
       "    }\n",
       "</style>\n",
       "<table border=\"1\" class=\"dataframe\">\n",
       "  <thead>\n",
       "    <tr style=\"text-align: right;\">\n",
       "      <th></th>\n",
       "      <th>text</th>\n",
       "    </tr>\n",
       "  </thead>\n",
       "  <tbody>\n",
       "    <tr>\n",
       "      <th>0</th>\n",
       "      <td>Замечательный врач Хочу выразить особую благод...</td>\n",
       "    </tr>\n",
       "  </tbody>\n",
       "</table>\n",
       "</div>"
      ],
      "text/plain": [
       "                                                text\n",
       "0  Замечательный врач Хочу выразить особую благод..."
      ]
     },
     "execution_count": 33,
     "metadata": {},
     "output_type": "execute_result"
    }
   ],
   "source": [
    "# clean the content -> only chars =======================================\n",
    "for i in range(0, len(data)):\n",
    "    data.loc[i, 'text'] = re.sub('[^а-яА-Я ]', '', data.loc[i, 'text'])\n",
    "data.head()"
   ]
  },
  {
   "cell_type": "code",
   "execution_count": 34,
   "metadata": {},
   "outputs": [
    {
     "data": {
      "text/plain": [
       "[['Замечательный',\n",
       "  'врач',\n",
       "  'Хочу',\n",
       "  'выразить',\n",
       "  'особую',\n",
       "  'благодарность',\n",
       "  'замечательному',\n",
       "  'доктору',\n",
       "  'Замареновой',\n",
       "  'Антонине',\n",
       "  'Васильевне',\n",
       "  'Был',\n",
       "  'сложный',\n",
       "  'случай',\n",
       "  'сделала',\n",
       "  'все',\n",
       "  'отлично',\n",
       "  'И',\n",
       "  'отдельная',\n",
       "  'благодарность',\n",
       "  'ее',\n",
       "  'медсестре',\n",
       "  'Оле',\n",
       "  'очень',\n",
       "  'внимательная',\n",
       "  'и',\n",
       "  'вежливая',\n",
       "  'девушка']]"
      ]
     },
     "execution_count": 34,
     "metadata": {},
     "output_type": "execute_result"
    }
   ],
   "source": [
    "# tokenization -> split the text by tokens to list  =======================================\n",
    "text_list = []\n",
    "for i in range(0, len(data)):\n",
    "    text_list.append(nltk.word_tokenize(data.loc[i, 'text'], language='russian'))\n",
    "text_list[:1] # -> ok"
   ]
  },
  {
   "cell_type": "code",
   "execution_count": 35,
   "metadata": {},
   "outputs": [],
   "source": [
    "# lemmatization -> to the base of simple word =======================================\n",
    "Snow = SnowballStemmer('russian')"
   ]
  },
  {
   "cell_type": "code",
   "execution_count": 36,
   "metadata": {},
   "outputs": [
    {
     "data": {
      "text/plain": [
       "[['замечательн',\n",
       "  'врач',\n",
       "  'хоч',\n",
       "  'выраз',\n",
       "  'особ',\n",
       "  'благодарн',\n",
       "  'замечательн',\n",
       "  'доктор',\n",
       "  'замаренов',\n",
       "  'антонин',\n",
       "  'васильевн',\n",
       "  'был',\n",
       "  'сложн',\n",
       "  'случа',\n",
       "  'сдела',\n",
       "  'все',\n",
       "  'отличн',\n",
       "  'и',\n",
       "  'отдельн',\n",
       "  'благодарн',\n",
       "  'е',\n",
       "  'медсестр',\n",
       "  'ол',\n",
       "  'очен',\n",
       "  'внимательн',\n",
       "  'и',\n",
       "  'вежлив',\n",
       "  'девушк']]"
      ]
     },
     "execution_count": 36,
     "metadata": {},
     "output_type": "execute_result"
    }
   ],
   "source": [
    "for i in range(0, len(text_list)):\n",
    "    for j in range(0, len(text_list[i])):\n",
    "        text_list[i][j] = Snow.stem(text_list[i][j])\n",
    "text_list[:1] # -> ok        "
   ]
  },
  {
   "cell_type": "code",
   "execution_count": 37,
   "metadata": {},
   "outputs": [],
   "source": [
    "# stop words removing =======================================\n",
    "stop_words_russian = stopwords.words('russian')"
   ]
  },
  {
   "cell_type": "code",
   "execution_count": 38,
   "metadata": {},
   "outputs": [
    {
     "data": {
      "text/plain": [
       "[['замечательн',\n",
       "  'врач',\n",
       "  'хоч',\n",
       "  'выраз',\n",
       "  'особ',\n",
       "  'благодарн',\n",
       "  'замечательн',\n",
       "  'доктор',\n",
       "  'замаренов',\n",
       "  'антонин',\n",
       "  'васильевн',\n",
       "  'сложн',\n",
       "  'случа',\n",
       "  'сдела',\n",
       "  'отличн',\n",
       "  'отдельн',\n",
       "  'благодарн',\n",
       "  'е',\n",
       "  'медсестр',\n",
       "  'ол',\n",
       "  'очен',\n",
       "  'внимательн',\n",
       "  'вежлив',\n",
       "  'девушк']]"
      ]
     },
     "execution_count": 38,
     "metadata": {},
     "output_type": "execute_result"
    }
   ],
   "source": [
    "text_list_cleaned = []\n",
    "for i in range(0, len(text_list)):\n",
    "    a = []\n",
    "    for j in range(0, len(text_list[i])):\n",
    "        if text_list[i][j] not in stop_words_russian:\n",
    "            a.append(text_list[i][j])\n",
    "    text_list_cleaned.append(a)\n",
    "text_list_cleaned[:1] # -> ok     "
   ]
  },
  {
   "cell_type": "code",
   "execution_count": 39,
   "metadata": {},
   "outputs": [
    {
     "data": {
      "text/plain": [
       "['а',\n",
       " 'б',\n",
       " 'в',\n",
       " 'г',\n",
       " 'д',\n",
       " 'е',\n",
       " 'ё',\n",
       " 'ж',\n",
       " 'з',\n",
       " 'и',\n",
       " 'й',\n",
       " 'к',\n",
       " 'л',\n",
       " 'м',\n",
       " 'н',\n",
       " 'о',\n",
       " 'п',\n",
       " 'р',\n",
       " 'с',\n",
       " 'т',\n",
       " 'у',\n",
       " 'ф',\n",
       " 'х',\n",
       " 'ц',\n",
       " 'ч',\n",
       " 'ш',\n",
       " 'щ',\n",
       " 'ъ',\n",
       " 'ы',\n",
       " 'ь',\n",
       " 'э',\n",
       " 'ю',\n",
       " 'я',\n",
       " 'А',\n",
       " 'Б',\n",
       " 'В',\n",
       " 'Г',\n",
       " 'Д',\n",
       " 'Е',\n",
       " 'Ё',\n",
       " 'Ж',\n",
       " 'З',\n",
       " 'И',\n",
       " 'Й',\n",
       " 'К',\n",
       " 'Л',\n",
       " 'М',\n",
       " 'Н',\n",
       " 'О',\n",
       " 'П',\n",
       " 'Р',\n",
       " 'С',\n",
       " 'Т',\n",
       " 'У',\n",
       " 'Ф',\n",
       " 'Х',\n",
       " 'Ц',\n",
       " 'Ч',\n",
       " 'Ш',\n",
       " 'Щ',\n",
       " 'Ъ',\n",
       " 'Ы',\n",
       " 'Ь',\n",
       " 'Э',\n",
       " 'Ю',\n",
       " 'Я']"
      ]
     },
     "execution_count": 39,
     "metadata": {},
     "output_type": "execute_result"
    }
   ],
   "source": [
    "# single chars still in the set\n",
    "# preparing the set of single chars\n",
    "alp='абвгдеёжзийклмнопрстуфхцчшщъыьэюя'\n",
    "alp = alp + alp.upper()\n",
    "alp  = [i for i in alp]\n",
    "alp\n"
   ]
  },
  {
   "cell_type": "code",
   "execution_count": 40,
   "metadata": {},
   "outputs": [
    {
     "data": {
      "text/plain": [
       "[['замечательн',\n",
       "  'врач',\n",
       "  'хоч',\n",
       "  'выраз',\n",
       "  'особ',\n",
       "  'благодарн',\n",
       "  'замечательн',\n",
       "  'доктор',\n",
       "  'замаренов',\n",
       "  'антонин',\n",
       "  'васильевн',\n",
       "  'был',\n",
       "  'сложн',\n",
       "  'случа',\n",
       "  'сдела',\n",
       "  'все',\n",
       "  'отличн',\n",
       "  'отдельн',\n",
       "  'благодарн',\n",
       "  'медсестр',\n",
       "  'ол',\n",
       "  'очен',\n",
       "  'внимательн',\n",
       "  'вежлив',\n",
       "  'девушк']]"
      ]
     },
     "execution_count": 40,
     "metadata": {},
     "output_type": "execute_result"
    }
   ],
   "source": [
    "text_list_cleaned2 = []\n",
    "for i in range(0, len(text_list)):\n",
    "    a = []\n",
    "    for j in range(0, len(text_list[i])):\n",
    "        if text_list[i][j] not in alp:\n",
    "            a.append(text_list[i][j])\n",
    "    text_list_cleaned2.append(a)\n",
    "text_list_cleaned2[:1] # -> ok  "
   ]
  },
  {
   "cell_type": "code",
   "execution_count": 41,
   "metadata": {},
   "outputs": [],
   "source": [
    "# vectorization =======================================\n",
    "Vectorizer = CountVectorizer()"
   ]
  },
  {
   "cell_type": "code",
   "execution_count": 42,
   "metadata": {},
   "outputs": [
    {
     "data": {
      "text/plain": [
       "['замечательн врач хоч выраз особ благодарн замечательн доктор замаренов антонин васильевн был сложн случа сдела все отличн отдельн благодарн медсестр ол очен внимательн вежлив девушк']"
      ]
     },
     "execution_count": 42,
     "metadata": {},
     "output_type": "execute_result"
    }
   ],
   "source": [
    "# connect separeted words to the string\n",
    "text_list_cleaned3 = []\n",
    "for i in range(0, len(text_list)):\n",
    "    text_list_cleaned3.append(' '.join(text_list_cleaned2[i]))\n",
    "text_list_cleaned3[:2] # -> ok "
   ]
  },
  {
   "cell_type": "code",
   "execution_count": 43,
   "metadata": {},
   "outputs": [
    {
     "name": "stdout",
     "output_type": "stream",
     "text": [
      "Vocab: {'замечательн': 12, 'врач': 6, 'хоч': 22, 'выраз': 8, 'особ': 15, 'благодарн': 1, 'доктор': 10, 'замаренов': 11, 'антонин': 0, 'васильевн': 3, 'был': 2, 'сложн': 20, 'случа': 21, 'сдела': 19, 'все': 7, 'отличн': 17, 'отдельн': 16, 'медсестр': 13, 'ол': 14, 'очен': 18, 'внимательн': 5, 'вежлив': 4, 'девушк': 9}\n",
      "names: ['антонин' 'благодарн' 'был' 'васильевн' 'вежлив' 'внимательн' 'врач'\n",
      " 'все' 'выраз' 'девушк' 'доктор' 'замаренов' 'замечательн' 'медсестр' 'ол'\n",
      " 'особ' 'отдельн' 'отличн' 'очен' 'сдела' 'сложн' 'случа' 'хоч']\n",
      "array: [[1 2 1 1 1 1 1 1 1 1 1 1 2 1 1 1 1 1 1 1 1 1 1]]\n"
     ]
    }
   ],
   "source": [
    "# vectorization itself ===============================================\n",
    "matrix_count = Vectorizer.fit_transform(text_list_cleaned3)\n",
    "\n",
    "print('Vocab:', Vectorizer.vocabulary_)\n",
    "print('names:', Vectorizer.get_feature_names_out())\n",
    "print('array:', matrix_count.toarray())"
   ]
  },
  {
   "cell_type": "code",
   "execution_count": 44,
   "metadata": {},
   "outputs": [],
   "source": [
    "# keep TFI-DF ===============================================\n",
    "tfi_vectorizer = TfidfVectorizer()\n",
    "tfi_matrix = tfi_vectorizer.fit_transform(raw_documents=text_list_cleaned3)"
   ]
  },
  {
   "cell_type": "code",
   "execution_count": 45,
   "metadata": {},
   "outputs": [
    {
     "data": {
      "text/html": [
       "<div>\n",
       "<style scoped>\n",
       "    .dataframe tbody tr th:only-of-type {\n",
       "        vertical-align: middle;\n",
       "    }\n",
       "\n",
       "    .dataframe tbody tr th {\n",
       "        vertical-align: top;\n",
       "    }\n",
       "\n",
       "    .dataframe thead th {\n",
       "        text-align: right;\n",
       "    }\n",
       "</style>\n",
       "<table border=\"1\" class=\"dataframe\">\n",
       "  <thead>\n",
       "    <tr style=\"text-align: right;\">\n",
       "      <th></th>\n",
       "      <th>антонин</th>\n",
       "      <th>благодарн</th>\n",
       "      <th>был</th>\n",
       "      <th>васильевн</th>\n",
       "      <th>вежлив</th>\n",
       "      <th>внимательн</th>\n",
       "      <th>врач</th>\n",
       "      <th>все</th>\n",
       "      <th>выраз</th>\n",
       "      <th>девушк</th>\n",
       "      <th>...</th>\n",
       "      <th>медсестр</th>\n",
       "      <th>ол</th>\n",
       "      <th>особ</th>\n",
       "      <th>отдельн</th>\n",
       "      <th>отличн</th>\n",
       "      <th>очен</th>\n",
       "      <th>сдела</th>\n",
       "      <th>сложн</th>\n",
       "      <th>случа</th>\n",
       "      <th>хоч</th>\n",
       "    </tr>\n",
       "  </thead>\n",
       "  <tbody>\n",
       "    <tr>\n",
       "      <th>0</th>\n",
       "      <td>1</td>\n",
       "      <td>2</td>\n",
       "      <td>1</td>\n",
       "      <td>1</td>\n",
       "      <td>1</td>\n",
       "      <td>1</td>\n",
       "      <td>1</td>\n",
       "      <td>1</td>\n",
       "      <td>1</td>\n",
       "      <td>1</td>\n",
       "      <td>...</td>\n",
       "      <td>1</td>\n",
       "      <td>1</td>\n",
       "      <td>1</td>\n",
       "      <td>1</td>\n",
       "      <td>1</td>\n",
       "      <td>1</td>\n",
       "      <td>1</td>\n",
       "      <td>1</td>\n",
       "      <td>1</td>\n",
       "      <td>1</td>\n",
       "    </tr>\n",
       "  </tbody>\n",
       "</table>\n",
       "<p>1 rows × 23 columns</p>\n",
       "</div>"
      ],
      "text/plain": [
       "   антонин  благодарн  был  васильевн  вежлив  внимательн  врач  все  выраз  \\\n",
       "0        1          2    1          1       1           1     1    1      1   \n",
       "\n",
       "   девушк  ...  медсестр  ол  особ  отдельн  отличн  очен  сдела  сложн  \\\n",
       "0       1  ...         1   1     1        1       1     1      1      1   \n",
       "\n",
       "   случа  хоч  \n",
       "0      1    1  \n",
       "\n",
       "[1 rows x 23 columns]"
      ]
     },
     "execution_count": 45,
     "metadata": {},
     "output_type": "execute_result"
    }
   ],
   "source": [
    "x_BOW_table2 = x_BOW_table\n",
    "new_x_BOW = pd.DataFrame(matrix_count.toarray(), columns=[*Vectorizer.get_feature_names_out()])\n",
    "new_x_BOW.head()"
   ]
  },
  {
   "cell_type": "code",
   "execution_count": 46,
   "metadata": {},
   "outputs": [
    {
     "data": {
      "text/html": [
       "<div>\n",
       "<style scoped>\n",
       "    .dataframe tbody tr th:only-of-type {\n",
       "        vertical-align: middle;\n",
       "    }\n",
       "\n",
       "    .dataframe tbody tr th {\n",
       "        vertical-align: top;\n",
       "    }\n",
       "\n",
       "    .dataframe thead th {\n",
       "        text-align: right;\n",
       "    }\n",
       "</style>\n",
       "<table border=\"1\" class=\"dataframe\">\n",
       "  <thead>\n",
       "    <tr style=\"text-align: right;\">\n",
       "      <th></th>\n",
       "      <th>аа</th>\n",
       "      <th>ааа</th>\n",
       "      <th>аааа</th>\n",
       "      <th>ааааа</th>\n",
       "      <th>аааааааааааааааааааааааааааа</th>\n",
       "      <th>аалександр</th>\n",
       "      <th>аанасьев</th>\n",
       "      <th>аб</th>\n",
       "      <th>аба</th>\n",
       "      <th>абаев</th>\n",
       "      <th>...</th>\n",
       "      <th>ящериц</th>\n",
       "      <th>ящик</th>\n",
       "      <th>ящикдал</th>\n",
       "      <th>ящикещ</th>\n",
       "      <th>ящикздоров</th>\n",
       "      <th>ящичек</th>\n",
       "      <th>ящичк</th>\n",
       "      <th>ящук</th>\n",
       "      <th>ящуржинск</th>\n",
       "      <th>яявлен</th>\n",
       "    </tr>\n",
       "  </thead>\n",
       "  <tbody>\n",
       "    <tr>\n",
       "      <th>0</th>\n",
       "      <td>0</td>\n",
       "      <td>0</td>\n",
       "      <td>0</td>\n",
       "      <td>0</td>\n",
       "      <td>0</td>\n",
       "      <td>0</td>\n",
       "      <td>0</td>\n",
       "      <td>0</td>\n",
       "      <td>0</td>\n",
       "      <td>0</td>\n",
       "      <td>...</td>\n",
       "      <td>0</td>\n",
       "      <td>0</td>\n",
       "      <td>0</td>\n",
       "      <td>0</td>\n",
       "      <td>0</td>\n",
       "      <td>0</td>\n",
       "      <td>0</td>\n",
       "      <td>0</td>\n",
       "      <td>0</td>\n",
       "      <td>0</td>\n",
       "    </tr>\n",
       "  </tbody>\n",
       "</table>\n",
       "<p>1 rows × 108644 columns</p>\n",
       "</div>"
      ],
      "text/plain": [
       "   аа  ааа  аааа  ааааа  аааааааааааааааааааааааааааа  аалександр  аанасьев  \\\n",
       "0   0    0     0      0                             0           0         0   \n",
       "\n",
       "   аб  аба  абаев  ...  ящериц  ящик  ящикдал  ящикещ  ящикздоров  ящичек  \\\n",
       "0   0    0      0  ...       0     0        0       0           0       0   \n",
       "\n",
       "   ящичк  ящук  ящуржинск  яявлен  \n",
       "0      0     0          0       0  \n",
       "\n",
       "[1 rows x 108644 columns]"
      ]
     },
     "execution_count": 46,
     "metadata": {},
     "output_type": "execute_result"
    }
   ],
   "source": [
    "#d1.loc[0, d2.columns] = d2.iloc[0, :]\n",
    "x_BOW_table2.loc[0, new_x_BOW.columns] = new_x_BOW.iloc[0,  :]\n",
    "x_BOW_table2"
   ]
  },
  {
   "cell_type": "code",
   "execution_count": 47,
   "metadata": {},
   "outputs": [
    {
     "data": {
      "text/plain": [
       "108644"
      ]
     },
     "execution_count": 47,
     "metadata": {},
     "output_type": "execute_result"
    }
   ],
   "source": [
    "len(x_BOW_table2.columns)"
   ]
  },
  {
   "cell_type": "code",
   "execution_count": 48,
   "metadata": {},
   "outputs": [
    {
     "data": {
      "text/plain": [
       "108644"
      ]
     },
     "execution_count": 48,
     "metadata": {},
     "output_type": "execute_result"
    }
   ],
   "source": [
    "x_BOW_table2 = x_BOW_table2.loc[:, x_BOW_table.columns]\n",
    "len(x_BOW_table2.columns)"
   ]
  },
  {
   "cell_type": "code",
   "execution_count": 49,
   "metadata": {},
   "outputs": [
    {
     "name": "stderr",
     "output_type": "stream",
     "text": [
      "/home/andrey/Documents/env/.venv/lib/python3.12/site-packages/sklearn/utils/validation.py:2732: UserWarning: X has feature names, but GaussianNB was fitted without feature names\n",
      "  warnings.warn(\n"
     ]
    },
    {
     "data": {
      "text/plain": [
       "np.int64(1)"
      ]
     },
     "execution_count": 49,
     "metadata": {},
     "output_type": "execute_result"
    }
   ],
   "source": [
    "answer01 = model01.predict(x_BOW_table2)\n",
    "answer01[0]"
   ]
  },
  {
   "cell_type": "code",
   "execution_count": null,
   "metadata": {},
   "outputs": [],
   "source": []
  },
  {
   "cell_type": "code",
   "execution_count": null,
   "metadata": {},
   "outputs": [],
   "source": []
  },
  {
   "cell_type": "code",
   "execution_count": null,
   "metadata": {},
   "outputs": [],
   "source": []
  },
  {
   "cell_type": "code",
   "execution_count": null,
   "metadata": {},
   "outputs": [],
   "source": []
  },
  {
   "cell_type": "code",
   "execution_count": null,
   "metadata": {},
   "outputs": [],
   "source": []
  },
  {
   "cell_type": "code",
   "execution_count": null,
   "metadata": {},
   "outputs": [],
   "source": []
  }
 ],
 "metadata": {
  "kernelspec": {
   "display_name": ".venv",
   "language": "python",
   "name": "python3"
  },
  "language_info": {
   "codemirror_mode": {
    "name": "ipython",
    "version": 3
   },
   "file_extension": ".py",
   "mimetype": "text/x-python",
   "name": "python",
   "nbconvert_exporter": "python",
   "pygments_lexer": "ipython3",
   "version": "3.12.3"
  }
 },
 "nbformat": 4,
 "nbformat_minor": 2
}
